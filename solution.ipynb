{
 "cells": [
  {
   "cell_type": "markdown",
   "metadata": {
    "colab_type": "text",
    "id": "view-in-github"
   },
   "source": [
    "<a href=\"https://colab.research.google.com/github/LuckyStrike357/atit2_assignment3/blob/master/exercises.ipynb\" target=\"_parent\"><img src=\"https://colab.research.google.com/assets/colab-badge.svg\" alt=\"Open In Colab\"/></a>"
   ]
  },
  {
   "cell_type": "markdown",
   "metadata": {},
   "source": [
    "# Assignment 3\n",
    "## Exercise A\n",
    "\n",
    "`samples.npy` holds 100 samples. 50 of it were part of training set `1` of `model1.hdf5` and 50 were part of training set `2` of `model2.hdf5`. \n",
    "\n",
    "- For each sample, identfiy which training set this sample was part of. Note, you probably will not be 100% certain - an educated guess is fine. \n",
    "- If you cannot make an educated guess for a sample explain why. It may not be possible to identify each sample!\n",
    "- Explain and argue, why you think samples are part of which training set.\n",
    "- Please provide a list with 100 labels ('1' / '2') indicating the training set you think the respective label was part of. Please use the same order than `samples.npy`.\n",
    "\n",
    "You are free to use any technique to help you in your identification. Please indicate what exactly you did and explain your thinking. You are free to use any information available to you. This includes: \n",
    "\n",
    "- self trained models from previous excercises\n",
    "- models you found online\n",
    "- the MNIST dataset including labels"
   ]
  },
  {
   "cell_type": "code",
   "execution_count": 1,
   "metadata": {
    "colab": {},
    "colab_type": "code",
    "collapsed": true,
    "id": "e1bb7FL49imx"
   },
   "outputs": [
    {
     "name": "stderr",
     "output_type": "stream",
     "text": [
      "Using TensorFlow backend.\n",
      "C:\\anaconda3\\lib\\site-packages\\tensorflow\\python\\framework\\dtypes.py:526: FutureWarning: Passing (type, 1) or '1type' as a synonym of type is deprecated; in a future version of numpy, it will be understood as (type, (1,)) / '(1,)type'.\n",
      "  _np_qint8 = np.dtype([(\"qint8\", np.int8, 1)])\n",
      "C:\\anaconda3\\lib\\site-packages\\tensorflow\\python\\framework\\dtypes.py:527: FutureWarning: Passing (type, 1) or '1type' as a synonym of type is deprecated; in a future version of numpy, it will be understood as (type, (1,)) / '(1,)type'.\n",
      "  _np_quint8 = np.dtype([(\"quint8\", np.uint8, 1)])\n",
      "C:\\anaconda3\\lib\\site-packages\\tensorflow\\python\\framework\\dtypes.py:528: FutureWarning: Passing (type, 1) or '1type' as a synonym of type is deprecated; in a future version of numpy, it will be understood as (type, (1,)) / '(1,)type'.\n",
      "  _np_qint16 = np.dtype([(\"qint16\", np.int16, 1)])\n",
      "C:\\anaconda3\\lib\\site-packages\\tensorflow\\python\\framework\\dtypes.py:529: FutureWarning: Passing (type, 1) or '1type' as a synonym of type is deprecated; in a future version of numpy, it will be understood as (type, (1,)) / '(1,)type'.\n",
      "  _np_quint16 = np.dtype([(\"quint16\", np.uint16, 1)])\n",
      "C:\\anaconda3\\lib\\site-packages\\tensorflow\\python\\framework\\dtypes.py:530: FutureWarning: Passing (type, 1) or '1type' as a synonym of type is deprecated; in a future version of numpy, it will be understood as (type, (1,)) / '(1,)type'.\n",
      "  _np_qint32 = np.dtype([(\"qint32\", np.int32, 1)])\n",
      "C:\\anaconda3\\lib\\site-packages\\tensorflow\\python\\framework\\dtypes.py:535: FutureWarning: Passing (type, 1) or '1type' as a synonym of type is deprecated; in a future version of numpy, it will be understood as (type, (1,)) / '(1,)type'.\n",
      "  np_resource = np.dtype([(\"resource\", np.ubyte, 1)])\n"
     ]
    }
   ],
   "source": [
    "#Imports\n",
    "import keras\n",
    "from keras.datasets import mnist\n",
    "import numpy as np\n",
    "import matplotlib.pyplot as plt"
   ]
  },
  {
   "cell_type": "code",
   "execution_count": 2,
   "metadata": {
    "collapsed": true
   },
   "outputs": [
    {
     "name": "stdout",
     "output_type": "stream",
     "text": [
      "WARNING:tensorflow:From C:\\anaconda3\\lib\\site-packages\\tensorflow\\python\\ops\\resource_variable_ops.py:435: colocate_with (from tensorflow.python.framework.ops) is deprecated and will be removed in a future version.\n",
      "Instructions for updating:\n",
      "Colocations handled automatically by placer.\n",
      "WARNING:tensorflow:From C:\\anaconda3\\lib\\site-packages\\tensorflow\\python\\ops\\math_ops.py:3066: to_int32 (from tensorflow.python.ops.math_ops) is deprecated and will be removed in a future version.\n",
      "Instructions for updating:\n",
      "Use tf.cast instead.\n"
     ]
    }
   ],
   "source": [
    "#Loading data from hard drive\n",
    "model_1 = keras.models.load_model('data/model1.hdf5')\n",
    "model_2 = keras.models.load_model('data/model2.hdf5')\n",
    "samples = np.load('data/samples.npy')"
   ]
  },
  {
   "cell_type": "code",
   "execution_count": 3,
   "metadata": {
    "collapsed": true
   },
   "outputs": [
    {
     "name": "stdout",
     "output_type": "stream",
     "text": [
      "Model: \"sequential_3\"\n",
      "_________________________________________________________________\n",
      "Layer (type)                 Output Shape              Param #   \n",
      "=================================================================\n",
      "conv2d_5 (Conv2D)            (None, 26, 26, 32)        320       \n",
      "_________________________________________________________________\n",
      "conv2d_6 (Conv2D)            (None, 24, 24, 64)        18496     \n",
      "_________________________________________________________________\n",
      "max_pooling2d_3 (MaxPooling2 (None, 12, 12, 64)        0         \n",
      "_________________________________________________________________\n",
      "dropout_5 (Dropout)          (None, 12, 12, 64)        0         \n",
      "_________________________________________________________________\n",
      "flatten_3 (Flatten)          (None, 9216)              0         \n",
      "_________________________________________________________________\n",
      "dense_5 (Dense)              (None, 128)               1179776   \n",
      "_________________________________________________________________\n",
      "dropout_6 (Dropout)          (None, 128)               0         \n",
      "_________________________________________________________________\n",
      "dense_6 (Dense)              (None, 10)                1290      \n",
      "=================================================================\n",
      "Total params: 1,199,882\n",
      "Trainable params: 1,199,882\n",
      "Non-trainable params: 0\n",
      "_________________________________________________________________\n"
     ]
    }
   ],
   "source": [
    "model_1.summary()"
   ]
  },
  {
   "cell_type": "code",
   "execution_count": 4,
   "metadata": {
    "collapsed": true
   },
   "outputs": [
    {
     "name": "stdout",
     "output_type": "stream",
     "text": [
      "Model: \"sequential_4\"\n",
      "_________________________________________________________________\n",
      "Layer (type)                 Output Shape              Param #   \n",
      "=================================================================\n",
      "conv2d_7 (Conv2D)            (None, 26, 26, 32)        320       \n",
      "_________________________________________________________________\n",
      "conv2d_8 (Conv2D)            (None, 24, 24, 64)        18496     \n",
      "_________________________________________________________________\n",
      "max_pooling2d_4 (MaxPooling2 (None, 12, 12, 64)        0         \n",
      "_________________________________________________________________\n",
      "dropout_7 (Dropout)          (None, 12, 12, 64)        0         \n",
      "_________________________________________________________________\n",
      "flatten_4 (Flatten)          (None, 9216)              0         \n",
      "_________________________________________________________________\n",
      "dense_7 (Dense)              (None, 128)               1179776   \n",
      "_________________________________________________________________\n",
      "dropout_8 (Dropout)          (None, 128)               0         \n",
      "_________________________________________________________________\n",
      "dense_8 (Dense)              (None, 10)                1290      \n",
      "=================================================================\n",
      "Total params: 1,199,882\n",
      "Trainable params: 1,199,882\n",
      "Non-trainable params: 0\n",
      "_________________________________________________________________\n"
     ]
    }
   ],
   "source": [
    "model_2.summary()"
   ]
  },
  {
   "cell_type": "markdown",
   "metadata": {},
   "source": [
    "Die Summary zeigt, dass beide Modelle den gleichen Aufbau und die gleichen Parameter haben, sich also nur in den verwendeten Traningsdaten oder Iterationen unterscheiden."
   ]
  },
  {
   "cell_type": "code",
   "execution_count": 5,
   "metadata": {},
   "outputs": [],
   "source": [
    "#Loading the original mnist data set\n",
    "(x_train, y_train), (x_test, y_test) = mnist.load_data()"
   ]
  },
  {
   "cell_type": "code",
   "execution_count": 6,
   "metadata": {},
   "outputs": [
    {
     "name": "stdout",
     "output_type": "stream",
     "text": [
      "(100, 28, 28, 1)\n",
      "(60000, 28, 28)\n"
     ]
    }
   ],
   "source": [
    "print(samples.shape)\n",
    "print(x_train.shape)"
   ]
  },
  {
   "cell_type": "code",
   "execution_count": 7,
   "metadata": {},
   "outputs": [
    {
     "name": "stdout",
     "output_type": "stream",
     "text": [
      "(100, 784)\n",
      "(60000, 784)\n"
     ]
    }
   ],
   "source": [
    "#Reshaping the samples and the train data\n",
    "reduced_samples = samples[:, :, :, 0]\n",
    "reduced_samples = reduced_samples.reshape((100, 28*28))\n",
    "reduced_x_train = x_train.reshape((60000, 28*28))\n",
    "\n",
    "print(reduced_samples.shape)\n",
    "print(reduced_x_train.shape)"
   ]
  },
  {
   "cell_type": "code",
   "execution_count": 14,
   "metadata": {},
   "outputs": [],
   "source": [
    "#Formatting the pictures to retrieve the original index\n",
    "\n",
    "ex1 = reduced_samples[0]\n",
    "unformated = True\n",
    "for i in ex1:\n",
    "    if i > 1:\n",
    "        unformated = False\n",
    "        break\n",
    "\n",
    "if unformated:\n",
    "        reduced_samples = reduced_samples*255"
   ]
  },
  {
   "cell_type": "code",
   "execution_count": 15,
   "metadata": {},
   "outputs": [],
   "source": [
    "#Check, which images were used to train the models and fetch the original dataset\n",
    "#in order to know the correct labels\n",
    "\n",
    "idx = []\n",
    "\n",
    "for x in reduced_samples:\n",
    "    count = 0\n",
    "    for y in reduced_x_train:\n",
    "        if np.array_equal(x, y):\n",
    "            idx.append(count)\n",
    "        count = count + 1"
   ]
  },
  {
   "cell_type": "code",
   "execution_count": 17,
   "metadata": {},
   "outputs": [
    {
     "data": {
      "text/plain": [
       "array([4, 4, 4, 4, 1, 9, 0, 0, 0, 0, 7, 7, 3, 9, 9, 0, 1, 7, 1, 7, 7, 4,\n",
       "       9, 1, 1, 3, 7, 4, 7, 4, 4, 9, 3, 0, 1, 4, 7, 7, 1, 1, 0, 6, 3, 4,\n",
       "       4, 7, 1, 7, 1, 7, 7, 9, 4, 7, 1, 6, 6, 1, 4, 1, 4, 3, 4, 7, 9, 1,\n",
       "       3, 0, 4, 9, 6, 4, 9, 1, 1, 3, 7, 6, 1, 4, 0, 6, 6, 3, 6, 6, 6, 7,\n",
       "       3, 1, 1, 4, 0, 7, 9, 7, 7, 1, 4, 3], dtype=uint8)"
      ]
     },
     "execution_count": 17,
     "metadata": {},
     "output_type": "execute_result"
    }
   ],
   "source": [
    "original_labels = y_train[idx]\n",
    "original_labels"
   ]
  },
  {
   "cell_type": "markdown",
   "metadata": {},
   "source": [
    "## Exploration\n",
    "\n",
    "Zunächst schaue ich, ob Bilder falsch von einem oder beiden Models vorhergesagt wurden. Dadurch kann eine erste Zuteilung vorgenommen werden. \n",
    "Im Anschluss vergleiche ich die Konfidenzen der Vorhersage pro Bild der beiden Models, um eine Mutmaßung abgeben zu können, welche Daten von welchem Model vorhergesagt wurden. \n",
    "Die Idee ist, dass ein Model, welches eine höhere Konfidenz in der Prediction abgibt öfter mit den Trainingsdaten trainiert wurde und eine grobe erste Einteilung möglich ist.\n"
   ]
  },
  {
   "cell_type": "code",
   "execution_count": 47,
   "metadata": {
    "scrolled": false
   },
   "outputs": [
    {
     "name": "stdout",
     "output_type": "stream",
     "text": [
      "Wrong predictions model 1\n",
      "\n",
      "False prediction for label index 5\n",
      "Correct label: 9\n",
      "Prediction model 1: 3\n",
      "Prediction model 2: 9\n",
      "\n",
      "False prediction for label index 21\n",
      "Correct label: 4\n",
      "Prediction model 1: 6\n",
      "Prediction model 2: 4\n",
      "\n",
      "False prediction for label index 31\n",
      "Correct label: 9\n",
      "Prediction model 1: 3\n",
      "Prediction model 2: 9\n",
      "\n",
      "False prediction for label index 52\n",
      "Correct label: 4\n",
      "Prediction model 1: 9\n",
      "Prediction model 2: 4\n",
      "\n",
      "False prediction for label index 57\n",
      "Correct label: 1\n",
      "Prediction model 1: 6\n",
      "Prediction model 2: 1\n",
      "\n",
      "False prediction for label index 63\n",
      "Correct label: 7\n",
      "Prediction model 1: 9\n",
      "Prediction model 2: 7\n",
      "\n",
      "False prediction for label index 80\n",
      "Correct label: 0\n",
      "Prediction model 1: 6\n",
      "Prediction model 2: 0\n",
      "\n",
      "False prediction for label index 88\n",
      "Correct label: 3\n",
      "Prediction model 1: 0\n",
      "Prediction model 2: 3\n",
      "\n",
      "\n",
      "Wrong predictions model 2\n",
      "\n",
      "False prediction for label index 12\n",
      "Correct label: 3\n",
      "Prediction model 1: 3\n",
      "Prediction model 2: 4\n",
      "\n",
      "False prediction for label index 20\n",
      "Correct label: 7\n",
      "Prediction model 1: 7\n",
      "Prediction model 2: 9\n",
      "\n",
      "False prediction for label index 25\n",
      "Correct label: 3\n",
      "Prediction model 1: 3\n",
      "Prediction model 2: 9\n",
      "\n",
      "False prediction for label index 51\n",
      "Correct label: 9\n",
      "Prediction model 1: 9\n",
      "Prediction model 2: 4\n",
      "\n",
      "False prediction for label index 54\n",
      "Correct label: 1\n",
      "Prediction model 1: 1\n",
      "Prediction model 2: 4\n",
      "\n",
      "False prediction for label index 69\n",
      "Correct label: 9\n",
      "Prediction model 1: 9\n",
      "Prediction model 2: 4\n",
      "\n",
      "False prediction for label index 95\n",
      "Correct label: 7\n",
      "Prediction model 1: 7\n",
      "Prediction model 2: 1\n",
      "\n"
     ]
    }
   ],
   "source": [
    "#Check, if there were wrong classifications\n",
    "\n",
    "print(\"Wrong predictions model 1\\n\")\n",
    "for i in range(len(samples)):\n",
    "    pred_model1 = model_1.predict(samples[i:i+1])\n",
    "    pred_model2 = model_2.predict(samples[i:i+1])\n",
    "    \n",
    "    \n",
    "    if pred_model1.argmax() != original_labels[i]:\n",
    "        print(\"False prediction for label index {}\".format(i))\n",
    "        print(\"Correct label: {}\".format(original_labels[i]))\n",
    "        print(\"Prediction model 1: {}\".format(pred_model1.argmax()))\n",
    "        print(\"Prediction model 2: {}\\n\".format(pred_model2.argmax()))\n",
    "\n",
    "print(\"\\nWrong predictions model 2\\n\")\n",
    "for i in range(len(samples)):\n",
    "    pred_model1 = model_1.predict(samples[i:i+1])\n",
    "    pred_model2 = model_2.predict(samples[i:i+1])\n",
    "      \n",
    "    if pred_model2.argmax() != original_labels[i]:\n",
    "        print(\"False prediction for label index {}\".format(i));\n",
    "        print(\"Correct label: {}\".format(original_labels[i]));\n",
    "        print(\"Prediction model 1: {}\".format(pred_model1.argmax()));\n",
    "        print(\"Prediction model 2: {}\\n\".format(pred_model2.argmax()));\n"
   ]
  },
  {
   "cell_type": "markdown",
   "metadata": {},
   "source": [
    "Diese erste Analyse zeigt:\n",
    "-  Es gibt kein Bild, das von beiden Modellen falsch vorhergesagt wurde\n",
    "- Modell 1 hat 8 Fehler gemacht\n",
    "- Modell 2 hat 7 Fehler gemacht"
   ]
  },
  {
   "cell_type": "markdown",
   "metadata": {},
   "source": [
    "Anschließend hole ich mir die Konfidenzen der Vorhersagen der Modelle. \n",
    "\n",
    "Dabei unterscheide ich:\n",
    "\n",
    "- Modell 1 höhere Konfidenz\n",
    "- Modell 2 höhere Konfidenz\n",
    "- Beide gleich gut\n",
    "\n",
    "Und ermittle den Unterschied in der Vorhersagegenauigkeit"
   ]
  },
  {
   "cell_type": "code",
   "execution_count": 48,
   "metadata": {},
   "outputs": [],
   "source": [
    "def get_higher_confidence(idx, samples):\n",
    "    pred_1 = model_1.predict(samples[idx:idx+1])\n",
    "    pred_2 = model_2.predict(samples[idx:idx+1])\n",
    "    diff = abs(pred_1.max()-pred_2.max())\n",
    "    \n",
    "    if(pred_1.max() > pred_2.max()):\n",
    "        return np.array([ idx, pred_1.max(), diff, pred_1.argmax(), pred_2.argmax(), \"model_1\"])\n",
    "    elif(pred_2.max() > pred_1.max()):\n",
    "        return np.array([idx, pred_2.max(), diff, pred_1.argmax(), pred_2.argmax(),  \"model_2\"])\n",
    "    else:\n",
    "        return np.array([idx, pred_1.max(), diff, pred_1.argmax(), pred_2.argmax(), \"both\"])"
   ]
  },
  {
   "cell_type": "code",
   "execution_count": 49,
   "metadata": {},
   "outputs": [],
   "source": [
    "preds_mapped = list()\n",
    "sum_model_1 = 0\n",
    "sum_model_2 = 0\n",
    "\n",
    "for i in range(samples.shape[0]):\n",
    "    x = get_higher_confidence(i,samples)\n",
    "    preds_mapped.append(x)\n",
    "    if(x[5] == \"model_1\"):\n",
    "        sum_model_1 += 1\n",
    "    elif(x[5] == \"model_2\"):\n",
    "        sum_model_2 += 1"
   ]
  },
  {
   "cell_type": "code",
   "execution_count": 50,
   "metadata": {},
   "outputs": [
    {
     "data": {
      "text/plain": [
       "32"
      ]
     },
     "execution_count": 50,
     "metadata": {},
     "output_type": "execute_result"
    }
   ],
   "source": [
    "sum_model_1"
   ]
  },
  {
   "cell_type": "code",
   "execution_count": 51,
   "metadata": {},
   "outputs": [
    {
     "data": {
      "text/plain": [
       "68"
      ]
     },
     "execution_count": 51,
     "metadata": {},
     "output_type": "execute_result"
    }
   ],
   "source": [
    "sum_model_2"
   ]
  },
  {
   "cell_type": "markdown",
   "metadata": {},
   "source": [
    "Entsprechend der Aufgabenstellung wissen wir, dass beide Models mit 50% der Daten trainiert wurden. Daher müssen nach der ersten groben Einteilung weitere 18 Bilder vom Zweiten auf das Erste Model umgelegt werden.\n",
    "\n",
    "Daher sortiere ich zunächst die Liste nach dem Unterschied der Vorhersagegenauigkeit der beiden Models. \n",
    "\n",
    "Wenn:\n",
    "- Model 2 eine höhere Genauigkeit hatte\n",
    "- und die Differenz zu Model 1 am geringsten ist\n",
    "\n",
    "Ordne ich den Eintrag Model 1 zu"
   ]
  },
  {
   "cell_type": "code",
   "execution_count": 52,
   "metadata": {},
   "outputs": [],
   "source": [
    "#Liste sortieren nach Unterschied in der Konfidenz\n",
    "preds_mapped.sort(key=lambda x: float(x[2]))"
   ]
  },
  {
   "cell_type": "code",
   "execution_count": 53,
   "metadata": {
    "collapsed": true
   },
   "outputs": [
    {
     "name": "stdout",
     "output_type": "stream",
     "text": [
      "['56' '0.9999434' '7.8082085e-05' '6' '6' 'model_2']\n",
      "['86' '0.9999137' '9.804964e-05' '6' '6' 'model_2']\n",
      "['81' '0.9997305' '0.00013589859' '6' '6' 'model_1']\n",
      "['1' '0.99889946' '0.00017350912' '4' '4' 'model_1']\n",
      "['91' '0.9995497' '0.00018310547' '4' '4' 'model_1']\n",
      "['67' '0.9987029' '0.00028717518' '0' '0' 'model_1']\n",
      "['35' '0.9998393' '0.00036245584' '4' '4' 'model_2']\n",
      "['7' '0.9999124' '0.0004017353' '0' '0' 'model_1']\n",
      "['44' '0.9996934' '0.00048160553' '4' '4' 'model_2']\n",
      "['82' '0.9998404' '0.00078707933' '6' '6' 'model_2']\n",
      "['6' '0.99970466' '0.000842154' '0' '0' 'model_2']\n",
      "['15' '0.9998692' '0.0012983084' '0' '0' 'model_2']\n",
      "['50' '0.9993368' '0.0014139414' '7' '7' 'model_1']\n",
      "['62' '0.9999018' '0.0017234087' '4' '4' 'model_2']\n",
      "['27' '0.99847025' '0.001735568' '4' '4' 'model_1']\n",
      "['84' '0.9977616' '0.0018609166' '6' '6' 'model_2']\n",
      "['85' '0.99920195' '0.0023421645' '6' '6' 'model_1']\n",
      "['32' '0.99950874' '0.002382338' '3' '3' 'model_2']\n",
      "['26' '0.9995333' '0.0032600164' '7' '7' 'model_2']\n",
      "['78' '0.99946266' '0.0038565397' '1' '1' 'model_2']\n",
      "['53' '0.99832934' '0.0040076375' '7' '7' 'model_2']\n",
      "['23' '0.99903667' '0.004486501' '1' '1' 'model_2']\n",
      "['66' '0.9964295' '0.004893601' '3' '3' 'model_1']\n",
      "['8' '0.9993344' '0.0051193237' '0' '0' 'model_2']\n",
      "['97' '0.99895823' '0.005211711' '1' '1' 'model_2']\n",
      "['70' '0.99982554' '0.0058746934' '6' '6' 'model_2']\n",
      "['75' '0.9942515' '0.006650567' '3' '3' 'model_2']\n",
      "['93' '0.99991906' '0.0067000985' '7' '7' 'model_2']\n",
      "['2' '0.99781525' '0.007907867' '4' '4' 'model_2']\n",
      "['89' '0.9922511' '0.008856714' '1' '1' 'model_2']\n",
      "['96' '0.9756174' '0.011392295' '7' '7' 'model_1']\n",
      "['17' '0.9997843' '0.011472344' '7' '7' 'model_2']\n",
      "['41' '0.99501026' '0.011514187' '6' '6' 'model_2']\n",
      "['92' '0.8645058' '0.011590719' '0' '0' 'model_2']\n",
      "['46' '0.9983083' '0.011885822' '1' '1' 'model_2']\n",
      "['45' '0.9994863' '0.011983454' '7' '7' 'model_2']\n",
      "['69' '0.99632686' '0.0134733915' '9' '4' 'model_1']\n",
      "['42' '0.999749' '0.013748288' '3' '3' 'model_2']\n",
      "['10' '0.9989203' '0.014081955' '7' '7' 'model_2']\n",
      "['98' '0.9998035' '0.017959952' '4' '4' 'model_2']\n",
      "['4' '0.99945515' '0.01815641' '1' '1' 'model_2']\n",
      "['48' '0.99937207' '0.019122541' '1' '1' 'model_2']\n",
      "['90' '0.999617' '0.01916027' '1' '1' 'model_2']\n",
      "['60' '0.99957794' '0.02032417' '4' '4' 'model_2']\n",
      "['11' '0.99984145' '0.022133052' '7' '7' 'model_2']\n",
      "['55' '0.99990916' '0.022168994' '6' '6' 'model_1']\n",
      "['87' '0.99972445' '0.024055421' '7' '7' 'model_1']\n",
      "['36' '0.9893266' '0.025105238' '7' '7' 'model_2']\n",
      "['83' '0.99483705' '0.025167763' '3' '3' 'model_1']\n",
      "['63' '0.9607904' '0.0266217' '9' '7' 'model_2']\n",
      "['65' '0.997489' '0.028045058' '1' '1' 'model_2']\n",
      "['99' '0.9921967' '0.030061543' '3' '3' 'model_2']\n",
      "['24' '0.998713' '0.032042325' '1' '1' 'model_2']\n",
      "['16' '0.96461105' '0.03304881' '1' '1' 'model_2']\n",
      "['9' '0.9997855' '0.03313428' '0' '0' 'model_2']\n",
      "['80' '0.93501365' '0.034900248' '6' '0' 'model_2']\n",
      "['37' '0.997053' '0.035343528' '7' '7' 'model_1']\n",
      "['28' '0.9980484' '0.035550654' '7' '7' 'model_2']\n",
      "['73' '0.99972194' '0.036393106' '1' '1' 'model_2']\n",
      "['51' '0.9932909' '0.037339866' '9' '4' 'model_1']\n",
      "['13' '0.99616146' '0.038126707' '9' '9' 'model_1']\n",
      "['31' '0.9929224' '0.04288596' '3' '9' 'model_2']\n",
      "['79' '0.9736666' '0.046385348' '4' '4' 'model_1']\n",
      "['64' '0.9913796' '0.0471254' '9' '9' 'model_2']\n",
      "['77' '0.9994449' '0.04779166' '6' '6' 'model_1']\n",
      "['3' '0.99884015' '0.048514545' '4' '4' 'model_2']\n",
      "['38' '0.98867947' '0.049542725' '1' '1' 'model_2']\n",
      "['39' '0.9994561' '0.051093698' '1' '1' 'model_2']\n",
      "['74' '0.99954766' '0.05298072' '1' '1' 'model_2']\n",
      "['22' '0.9961636' '0.053117394' '9' '9' 'model_2']\n",
      "['30' '0.9995376' '0.05448258' '4' '4' 'model_1']\n",
      "['19' '0.982473' '0.055564225' '7' '7' 'model_2']\n",
      "['40' '0.99328095' '0.061036766' '0' '0' 'model_2']\n",
      "['59' '0.995453' '0.06808096' '1' '1' 'model_2']\n",
      "['34' '0.98095566' '0.071792185' '1' '1' 'model_1']\n",
      "['29' '0.9814611' '0.071917295' '4' '4' 'model_2']\n",
      "['49' '0.99856085' '0.07780415' '7' '7' 'model_2']\n",
      "['0' '0.9976714' '0.08284038' '4' '4' 'model_2']\n",
      "['33' '0.99818146' '0.096211255' '0' '0' 'model_2']\n",
      "['47' '0.9901051' '0.13588935' '7' '7' 'model_1']\n",
      "['94' '0.9669535' '0.16905671' '9' '9' 'model_1']\n",
      "['12' '0.99880826' '0.2046364' '3' '4' 'model_1']\n",
      "['58' '0.99297404' '0.23485023' '4' '4' 'model_2']\n",
      "['54' '0.97758603' '0.27611744' '1' '4' 'model_1']\n",
      "['25' '0.99869186' '0.30185544' '3' '9' 'model_1']\n",
      "['61' '0.997391' '0.3185671' '3' '3' 'model_1']\n",
      "['43' '0.99553007' '0.33247238' '4' '4' 'model_1']\n",
      "['68' '0.9976502' '0.33688742' '4' '4' 'model_2']\n",
      "['76' '0.97911304' '0.3690822' '7' '7' 'model_2']\n",
      "['18' '0.9604067' '0.37833673' '1' '1' 'model_1']\n",
      "['71' '0.9988072' '0.40423965' '4' '4' 'model_2']\n",
      "['14' '0.9885162' '0.4160694' '9' '9' 'model_1']\n",
      "['88' '0.9991335' '0.4421867' '0' '3' 'model_2']\n",
      "['72' '0.977629' '0.45305544' '9' '9' 'model_2']\n",
      "['21' '0.99987566' '0.46510297' '6' '4' 'model_2']\n",
      "['57' '0.9987884' '0.5375676' '6' '1' 'model_2']\n",
      "['5' '0.9978472' '0.57273746' '3' '9' 'model_2']\n",
      "['95' '0.96159005' '0.57350826' '7' '1' 'model_1']\n",
      "['20' '0.9572886' '0.5932201' '7' '9' 'model_1']\n",
      "['52' '0.99028134' '0.63344646' '9' '4' 'model_2']\n"
     ]
    }
   ],
   "source": [
    "for i in range(len(samples)):\n",
    "    print(preds_mapped[i]);"
   ]
  },
  {
   "cell_type": "code",
   "execution_count": 54,
   "metadata": {},
   "outputs": [],
   "source": [
    "result = list()\n",
    "\n",
    "for i in range(27):\n",
    "    if preds_mapped[i][5] == \"model_2\":\n",
    "        result.append(preds_mapped[i])\n",
    "        result[i][5] = \"model_1\"\n",
    "    else:\n",
    "        result.append(preds_mapped[i])\n",
    "\n",
    "for i in range(27,100):\n",
    "    result.append(preds_mapped[i])"
   ]
  },
  {
   "cell_type": "code",
   "execution_count": 55,
   "metadata": {},
   "outputs": [
    {
     "name": "stdout",
     "output_type": "stream",
     "text": [
      "50\n",
      "50\n"
     ]
    }
   ],
   "source": [
    "sum_1 = 0\n",
    "sum_2 = 0\n",
    "\n",
    "for i in range(len(result)):\n",
    "    if result[i][5] == \"model_1\":\n",
    "        sum_1 += 1\n",
    "    else:\n",
    "        sum_2 += 1\n",
    "        \n",
    "print(sum_1)\n",
    "print(sum_2)"
   ]
  },
  {
   "cell_type": "code",
   "execution_count": 96,
   "metadata": {},
   "outputs": [
    {
     "name": "stdout",
     "output_type": "stream",
     "text": [
      "[2, 1, 2, 2, 2, 2, 1, 1, 1, 2, 2, 2, 1, 1, 1, 1, 2, 2, 1, 2, 1, 2, 2, 1, 2, 1, 1, 1, 2, 2, 1, 2, 1, 2, 1, 1, 2, 1, 2, 2, 2, 2, 2, 1, 1, 2, 2, 1, 2, 2, 1, 1, 2, 1, 1, 1, 1, 2, 2, 2, 2, 1, 1, 2, 2, 2, 1, 1, 2, 1, 1, 2, 2, 2, 2, 1, 2, 1, 1, 1, 2, 1, 1, 1, 1, 1, 1, 1, 2, 2, 2, 1, 2, 2, 1, 1, 1, 1, 2, 2]\n"
     ]
    }
   ],
   "source": [
    "result_list = list()\n",
    "\n",
    "result.sort(key=lambda x: float(x[0]))\n",
    "\n",
    "for i in range(len(result)):\n",
    "    if(result[i][5] == \"model_1\"):\n",
    "        #print(\"Index {} was probably trained with {}\".format(i, result[i][5]))\n",
    "        result_list.append(1)\n",
    "    else:\n",
    "        result_list.append(2)\n",
    "        \n",
    "print(result_list)"
   ]
  },
  {
   "cell_type": "markdown",
   "metadata": {},
   "source": [
    "## Exercise B\n",
    "\n",
    "Both training sets `1` and `2` were unbalanced.\n",
    "- What can you infer about the training set's imbalances?\n",
    "\n",
    "You are free to use any technique to help you in your identification. Please indicate what exactly you did\n",
    "and explain your thinking. You are free to use any information available to you. This includes:\n",
    "\n",
    "- self trained models from previous excercises\n",
    "- models you found online\n",
    "- the MNIST dataset including labels\n"
   ]
  },
  {
   "cell_type": "code",
   "execution_count": 88,
   "metadata": {},
   "outputs": [],
   "source": [
    "import pandas as pd\n",
    "import seaborn as sns"
   ]
  },
  {
   "cell_type": "code",
   "execution_count": 102,
   "metadata": {},
   "outputs": [],
   "source": [
    "#Verteilung aus Aufgabe A\n",
    "model_distribution = np.array([2, 1, 2, 2, 2, 2, 1, 1, 1, 2, 2, 2, \n",
    "                               1, 1, 1, 1, 2, 2, 1, 2, 1, 2, 2, 1, \n",
    "                               2, 1, 1, 1, 2, 2, 1, 2, 1, 2, 1, 1, \n",
    "                               2, 1, 2, 2, 2, 2, 2, 1, 1, 2, 2, 1, \n",
    "                               2, 2, 1, 1, 2, 1, 1, 1, 1, 2, 2, 2, \n",
    "                               2, 1, 1, 2, 2, 2, 1, 1, 2, 1, 1, 2, \n",
    "                               2, 2, 2, 1, 2, 1, 1, 1, 2, 1, 1, 1, \n",
    "                               1, 1, 1, 1, 2, 2, 2, 1, 2, 2, 1, 1, 1, 1, 2, 2])\n",
    "\n",
    "model1_labels = original_labels[np.where(model_distribution == 1)[0]]\n",
    "model2_labels = original_labels[np.where(model_distribution == 2)[0]]\n",
    "df_model1 = pd.DataFrame(model1_labels, columns=[\"category\"])\n",
    "df_model2 = pd.DataFrame(model2_labels, columns=[\"category\"])"
   ]
  },
  {
   "cell_type": "code",
   "execution_count": 103,
   "metadata": {},
   "outputs": [
    {
     "data": {
      "text/plain": [
       "Text(0.5, 1.0, 'Distribution in Model 1')"
      ]
     },
     "execution_count": 103,
     "metadata": {},
     "output_type": "execute_result"
    },
    {
     "data": {
      "image/png": "[encoded data removed]",
      "text/plain": [
       "<Figure size 432x288 with 1 Axes>"
      ]
     },
     "metadata": {
      "needs_background": "light"
     },
     "output_type": "display_data"
    }
   ],
   "source": [
    "sns.countplot(x=\"category\", data=df_model1).set_title(\"Distribution in Model 1\")"
   ]
  },
  {
   "cell_type": "code",
   "execution_count": 104,
   "metadata": {},
   "outputs": [
    {
     "data": {
      "text/plain": [
       "Text(0.5, 1.0, 'Distriution in Model 2')"
      ]
     },
     "execution_count": 104,
     "metadata": {},
     "output_type": "execute_result"
    },
    {
     "data": {
      "image/png": "[encoded data removed]",
      "text/plain": [
       "<Figure size 432x288 with 1 Axes>"
      ]
     },
     "metadata": {
      "needs_background": "light"
     },
     "output_type": "display_data"
    }
   ],
   "source": [
    "sns.countplot(x=\"category\", data=df_model2).set_title(\"Distribution in Model 2\")"
   ]
  },
  {
   "cell_type": "markdown",
   "metadata": {},
   "source": [
    "Wenn man davon ausgeht, dass die Aufteilung der Sampledaten aus Aufgabe A korrekt ist, wurden die Modelle mit den folgenden Zahlen trainiert:\n",
    "\n",
    "| Model | Anz. 0 | Anz. 1 | Anz. 2 | Anz. 3 | Anz. 4 | Anz. 5 | Anz. 6 | Anz. 7 | Anz. 8 | Anz. 9 |\n",
    "|:-----:|:------:|:------:|:------:|:------:|:------:|:------:|:------:|:------:|:------:|:------:|\n",
    "| 1     |   5    |   6    |   0    |   7    |   9    |   0    |   9    |   9    |   0    |   5    |  \n",
    "| 2     |   5    |  14    |   0    |   3    |  11    |   0    |   1    |  11    |   0    |   5    |\n",
    "\n",
    "\n",
    "Entsprechend liegt die Vermutung nahe, dass bei einer Prediction auf das gesamte Set bei beiden Modellen die Zahlen 2, 5 sowie 8 nicht richtig vorhergesagt werden."
   ]
  },
  {
   "cell_type": "code",
   "execution_count": 86,
   "metadata": {},
   "outputs": [],
   "source": [
    "df0 = pd.DataFrame(original_labels, columns=[\"category\"])\n",
    "df1 = pd.DataFrame(y_train, columns=[\"category\"])"
   ]
  },
  {
   "cell_type": "code",
   "execution_count": 89,
   "metadata": {},
   "outputs": [
    {
     "data": {
      "text/plain": [
       "Text(0.5, 1.0, 'Distribution in 100 samples')"
      ]
     },
     "execution_count": 89,
     "metadata": {},
     "output_type": "execute_result"
    },
    {
     "data": {
      "image/png": "[encoded data removed]",
      "text/plain": [
       "<Figure size 432x288 with 1 Axes>"
      ]
     },
     "metadata": {
      "needs_background": "light"
     },
     "output_type": "display_data"
    }
   ],
   "source": [
    "sns.countplot(x=\"category\", data=df0).set_title(\"Distribution in 100 samples\")"
   ]
  },
  {
   "cell_type": "markdown",
   "metadata": {},
   "source": [
    "Dieser Graph zeigt, wie das Sample insgesamt verteilt ist. Dabei ist auffällig, dass von den Zahlen 0, 3, 6 und 9 jeweils 10 Samples verwendet wurden und von den Zahlen 1, 4 sowie 7 jeweils 20."
   ]
  },
  {
   "cell_type": "code",
   "execution_count": 90,
   "metadata": {},
   "outputs": [
    {
     "data": {
      "text/plain": [
       "Text(0.5, 1.0, 'Distribution in MNIST train data')"
      ]
     },
     "execution_count": 90,
     "metadata": {},
     "output_type": "execute_result"
    },
    {
     "data": {
      "image/png": "[encoded data removed]",
      "text/plain": [
       "<Figure size 432x288 with 1 Axes>"
      ]
     },
     "metadata": {
      "needs_background": "light"
     },
     "output_type": "display_data"
    }
   ],
   "source": [
    "sns.countplot(x=\"category\", data=df1).set_title(\"Distribution in MNIST train data\")"
   ]
  },
  {
   "cell_type": "markdown",
   "metadata": {},
   "source": [
    "Im Gegensatz zu dem kleinen Sample, welches für unsere Models verwendet wurde, ist die Gesamtverteilung im den MNIST Datensatz deutlich ausgeglichener."
   ]
  },
  {
   "cell_type": "code",
   "execution_count": 159,
   "metadata": {},
   "outputs": [],
   "source": [
    "category_0 = samples[np.where(original_labels == 0)[0]]\n",
    "category_1 = samples[np.where(original_labels == 1)[0]]\n",
    "category_3 = samples[np.where(original_labels == 3)[0]]\n",
    "category_4 = samples[np.where(original_labels == 4)[0]]\n",
    "category_6 = samples[np.where(original_labels == 6)[0]]\n",
    "category_7 = samples[np.where(original_labels == 7)[0]]\n",
    "category_9 = samples[np.where(original_labels == 9)[0]]\n",
    "\n",
    "#Funktion um die Prediction pro Category anzuzeigen\n",
    "def predict_category(category, model):\n",
    "    for x in category:\n",
    "        pred = model.predict(x.reshape(1, 28, 28, 1))\n",
    "        for y in pred:    \n",
    "                print(\"Predicted: \" + str(y.argmax()) + \" with confidence: \" + str(y.max()))\n",
    "    print(\"\\n\")"
   ]
  },
  {
   "cell_type": "code",
   "execution_count": 162,
   "metadata": {},
   "outputs": [
    {
     "name": "stdout",
     "output_type": "stream",
     "text": [
      "Model 1:\n",
      "\n",
      "Predicted: 0 with confidence: 0.9988625\n",
      "Predicted: 0 with confidence: 0.9999124\n",
      "Predicted: 0 with confidence: 0.9942151\n",
      "Predicted: 0 with confidence: 0.9666512\n",
      "Predicted: 0 with confidence: 0.9985709\n",
      "Predicted: 0 with confidence: 0.9019702\n",
      "Predicted: 0 with confidence: 0.9322442\n",
      "Predicted: 0 with confidence: 0.9987029\n",
      "Predicted: 6 with confidence: 0.9001134\n",
      "Predicted: 0 with confidence: 0.8529151\n",
      "\n",
      "\n",
      "Model 2:\n",
      "\n",
      "Predicted: 0 with confidence: 0.99970466\n",
      "Predicted: 0 with confidence: 0.99951065\n",
      "Predicted: 0 with confidence: 0.9993344\n",
      "Predicted: 0 with confidence: 0.9997855\n",
      "Predicted: 0 with confidence: 0.9998692\n",
      "Predicted: 0 with confidence: 0.99818146\n",
      "Predicted: 0 with confidence: 0.99328095\n",
      "Predicted: 0 with confidence: 0.9984157\n",
      "Predicted: 0 with confidence: 0.93501365\n",
      "Predicted: 0 with confidence: 0.8645058\n",
      "\n",
      "\n"
     ]
    }
   ],
   "source": [
    "print(\"Model 1:\\n\")\n",
    "predict_category(category_0, model_1)\n",
    "print(\"Model 2:\\n\")\n",
    "predict_category(category_0, model_2)"
   ]
  },
  {
   "cell_type": "markdown",
   "metadata": {},
   "source": [
    "Kaum ein Unterschied, was jedoch auch zu erwarten war, da beide Modelle mit der selben Anzahl an Nullen trainiert wurden."
   ]
  },
  {
   "cell_type": "code",
   "execution_count": 164,
   "metadata": {},
   "outputs": [
    {
     "name": "stdout",
     "output_type": "stream",
     "text": [
      "Model 1:\n",
      "\n",
      "Predicted: 1 with confidence: 0.98129874\n",
      "Predicted: 1 with confidence: 0.93156224\n",
      "Predicted: 1 with confidence: 0.9604067\n",
      "Predicted: 1 with confidence: 0.99455017\n",
      "Predicted: 1 with confidence: 0.9666707\n",
      "Predicted: 1 with confidence: 0.98095566\n",
      "Predicted: 1 with confidence: 0.93913674\n",
      "Predicted: 1 with confidence: 0.9483624\n",
      "Predicted: 1 with confidence: 0.9864225\n",
      "Predicted: 1 with confidence: 0.9802495\n",
      "Predicted: 1 with confidence: 0.97758603\n",
      "Predicted: 6 with confidence: 0.46122077\n",
      "Predicted: 1 with confidence: 0.92737204\n",
      "Predicted: 1 with confidence: 0.9694439\n",
      "Predicted: 1 with confidence: 0.96332884\n",
      "Predicted: 1 with confidence: 0.94656694\n",
      "Predicted: 1 with confidence: 0.9956061\n",
      "Predicted: 1 with confidence: 0.9833944\n",
      "Predicted: 1 with confidence: 0.9804567\n",
      "Predicted: 1 with confidence: 0.9937465\n",
      "\n",
      "\n",
      "Model 2:\n",
      "\n",
      "Predicted: 1 with confidence: 0.99945515\n",
      "Predicted: 1 with confidence: 0.96461105\n",
      "Predicted: 1 with confidence: 0.58207\n",
      "Predicted: 1 with confidence: 0.99903667\n",
      "Predicted: 1 with confidence: 0.998713\n",
      "Predicted: 1 with confidence: 0.9091635\n",
      "Predicted: 1 with confidence: 0.98867947\n",
      "Predicted: 1 with confidence: 0.9994561\n",
      "Predicted: 1 with confidence: 0.9983083\n",
      "Predicted: 1 with confidence: 0.99937207\n",
      "Predicted: 4 with confidence: 0.7014686\n",
      "Predicted: 1 with confidence: 0.9987884\n",
      "Predicted: 1 with confidence: 0.995453\n",
      "Predicted: 1 with confidence: 0.997489\n",
      "Predicted: 1 with confidence: 0.99972194\n",
      "Predicted: 1 with confidence: 0.99954766\n",
      "Predicted: 1 with confidence: 0.99946266\n",
      "Predicted: 1 with confidence: 0.9922511\n",
      "Predicted: 1 with confidence: 0.999617\n",
      "Predicted: 1 with confidence: 0.99895823\n",
      "\n",
      "\n"
     ]
    }
   ],
   "source": [
    "print(\"Model 1:\\n\")\n",
    "predict_category(category_1, model_1)\n",
    "print(\"Model 2:\\n\")\n",
    "predict_category(category_1, model_2)"
   ]
  },
  {
   "cell_type": "code",
   "execution_count": 165,
   "metadata": {},
   "outputs": [
    {
     "name": "stdout",
     "output_type": "stream",
     "text": [
      "Model 1:\n",
      "\n",
      "Predicted: 3 with confidence: 0.99880826\n",
      "Predicted: 3 with confidence: 0.99869186\n",
      "Predicted: 3 with confidence: 0.9971264\n",
      "Predicted: 3 with confidence: 0.9860007\n",
      "Predicted: 3 with confidence: 0.997391\n",
      "Predicted: 3 with confidence: 0.9964295\n",
      "Predicted: 3 with confidence: 0.9876009\n",
      "Predicted: 3 with confidence: 0.99483705\n",
      "Predicted: 0 with confidence: 0.5569468\n",
      "Predicted: 3 with confidence: 0.96213514\n",
      "\n",
      "\n",
      "Model 2:\n",
      "\n",
      "Predicted: 4 with confidence: 0.79417187\n",
      "Predicted: 9 with confidence: 0.6968364\n",
      "Predicted: 3 with confidence: 0.99950874\n",
      "Predicted: 3 with confidence: 0.999749\n",
      "Predicted: 3 with confidence: 0.6788239\n",
      "Predicted: 3 with confidence: 0.9915359\n",
      "Predicted: 3 with confidence: 0.9942515\n",
      "Predicted: 3 with confidence: 0.9696693\n",
      "Predicted: 3 with confidence: 0.9991335\n",
      "Predicted: 3 with confidence: 0.9921967\n",
      "\n",
      "\n"
     ]
    }
   ],
   "source": [
    "print(\"Model 1:\\n\")\n",
    "predict_category(category_3, model_1)\n",
    "print(\"Model 2:\\n\")\n",
    "predict_category(category_3, model_2)"
   ]
  },
  {
   "cell_type": "code",
   "execution_count": 166,
   "metadata": {},
   "outputs": [
    {
     "name": "stdout",
     "output_type": "stream",
     "text": [
      "Model 1:\n",
      "\n",
      "Predicted: 4 with confidence: 0.91483104\n",
      "Predicted: 4 with confidence: 0.99889946\n",
      "Predicted: 4 with confidence: 0.9899074\n",
      "Predicted: 4 with confidence: 0.9503256\n",
      "Predicted: 6 with confidence: 0.5347727\n",
      "Predicted: 4 with confidence: 0.99847025\n",
      "Predicted: 4 with confidence: 0.9095438\n",
      "Predicted: 4 with confidence: 0.9995376\n",
      "Predicted: 4 with confidence: 0.99947685\n",
      "Predicted: 4 with confidence: 0.99553007\n",
      "Predicted: 4 with confidence: 0.9992118\n",
      "Predicted: 9 with confidence: 0.35683486\n",
      "Predicted: 4 with confidence: 0.7581238\n",
      "Predicted: 4 with confidence: 0.97925377\n",
      "Predicted: 4 with confidence: 0.99817836\n",
      "Predicted: 4 with confidence: 0.6607628\n",
      "Predicted: 4 with confidence: 0.59456754\n",
      "Predicted: 4 with confidence: 0.9736666\n",
      "Predicted: 4 with confidence: 0.9995497\n",
      "Predicted: 4 with confidence: 0.98184353\n",
      "\n",
      "\n",
      "Model 2:\n",
      "\n",
      "Predicted: 4 with confidence: 0.9976714\n",
      "Predicted: 4 with confidence: 0.99872595\n",
      "Predicted: 4 with confidence: 0.99781525\n",
      "Predicted: 4 with confidence: 0.99884015\n",
      "Predicted: 4 with confidence: 0.99987566\n",
      "Predicted: 4 with confidence: 0.9967347\n",
      "Predicted: 4 with confidence: 0.9814611\n",
      "Predicted: 4 with confidence: 0.945055\n",
      "Predicted: 4 with confidence: 0.9998393\n",
      "Predicted: 4 with confidence: 0.6630577\n",
      "Predicted: 4 with confidence: 0.9996934\n",
      "Predicted: 4 with confidence: 0.99028134\n",
      "Predicted: 4 with confidence: 0.99297404\n",
      "Predicted: 4 with confidence: 0.99957794\n",
      "Predicted: 4 with confidence: 0.9999018\n",
      "Predicted: 4 with confidence: 0.9976502\n",
      "Predicted: 4 with confidence: 0.9988072\n",
      "Predicted: 4 with confidence: 0.92728126\n",
      "Predicted: 4 with confidence: 0.9993666\n",
      "Predicted: 4 with confidence: 0.9998035\n",
      "\n",
      "\n"
     ]
    }
   ],
   "source": [
    "print(\"Model 1:\\n\")\n",
    "predict_category(category_4, model_1)\n",
    "print(\"Model 2:\\n\")\n",
    "predict_category(category_4, model_2)"
   ]
  },
  {
   "cell_type": "code",
   "execution_count": 167,
   "metadata": {},
   "outputs": [
    {
     "name": "stdout",
     "output_type": "stream",
     "text": [
      "Model 1:\n",
      "\n",
      "Predicted: 6 with confidence: 0.98349607\n",
      "Predicted: 6 with confidence: 0.99990916\n",
      "Predicted: 6 with confidence: 0.9998653\n",
      "Predicted: 6 with confidence: 0.99395084\n",
      "Predicted: 6 with confidence: 0.9994449\n",
      "Predicted: 6 with confidence: 0.9997305\n",
      "Predicted: 6 with confidence: 0.9990533\n",
      "Predicted: 6 with confidence: 0.9959007\n",
      "Predicted: 6 with confidence: 0.99920195\n",
      "Predicted: 6 with confidence: 0.99981564\n",
      "\n",
      "\n",
      "Model 2:\n",
      "\n",
      "Predicted: 6 with confidence: 0.99501026\n",
      "Predicted: 6 with confidence: 0.97774017\n",
      "Predicted: 6 with confidence: 0.9999434\n",
      "Predicted: 6 with confidence: 0.99982554\n",
      "Predicted: 6 with confidence: 0.95165324\n",
      "Predicted: 6 with confidence: 0.9995946\n",
      "Predicted: 6 with confidence: 0.9998404\n",
      "Predicted: 6 with confidence: 0.9977616\n",
      "Predicted: 6 with confidence: 0.9968598\n",
      "Predicted: 6 with confidence: 0.9999137\n",
      "\n",
      "\n"
     ]
    }
   ],
   "source": [
    "print(\"Model 1:\\n\")\n",
    "predict_category(category_6, model_1)\n",
    "print(\"Model 2:\\n\")\n",
    "predict_category(category_6, model_2)"
   ]
  },
  {
   "cell_type": "code",
   "execution_count": 168,
   "metadata": {},
   "outputs": [
    {
     "name": "stdout",
     "output_type": "stream",
     "text": [
      "Model 1:\n",
      "\n",
      "Predicted: 7 with confidence: 0.98483837\n",
      "Predicted: 7 with confidence: 0.9777084\n",
      "Predicted: 7 with confidence: 0.98831195\n",
      "Predicted: 7 with confidence: 0.9269088\n",
      "Predicted: 7 with confidence: 0.9572886\n",
      "Predicted: 7 with confidence: 0.9962733\n",
      "Predicted: 7 with confidence: 0.9624978\n",
      "Predicted: 7 with confidence: 0.96422136\n",
      "Predicted: 7 with confidence: 0.997053\n",
      "Predicted: 7 with confidence: 0.9875029\n",
      "Predicted: 7 with confidence: 0.9901051\n",
      "Predicted: 7 with confidence: 0.9207567\n",
      "Predicted: 7 with confidence: 0.9993368\n",
      "Predicted: 7 with confidence: 0.9943217\n",
      "Predicted: 9 with confidence: 0.9341687\n",
      "Predicted: 7 with confidence: 0.61003083\n",
      "Predicted: 7 with confidence: 0.99972445\n",
      "Predicted: 7 with confidence: 0.99321896\n",
      "Predicted: 7 with confidence: 0.96159005\n",
      "Predicted: 7 with confidence: 0.9756174\n",
      "\n",
      "\n",
      "Model 2:\n",
      "\n",
      "Predicted: 7 with confidence: 0.9989203\n",
      "Predicted: 7 with confidence: 0.99984145\n",
      "Predicted: 7 with confidence: 0.9997843\n",
      "Predicted: 7 with confidence: 0.982473\n",
      "Predicted: 9 with confidence: 0.36406854\n",
      "Predicted: 7 with confidence: 0.9995333\n",
      "Predicted: 7 with confidence: 0.9980484\n",
      "Predicted: 7 with confidence: 0.9893266\n",
      "Predicted: 7 with confidence: 0.9617095\n",
      "Predicted: 7 with confidence: 0.9994863\n",
      "Predicted: 7 with confidence: 0.85421574\n",
      "Predicted: 7 with confidence: 0.99856085\n",
      "Predicted: 7 with confidence: 0.99792284\n",
      "Predicted: 7 with confidence: 0.99832934\n",
      "Predicted: 7 with confidence: 0.9607904\n",
      "Predicted: 7 with confidence: 0.97911304\n",
      "Predicted: 7 with confidence: 0.975669\n",
      "Predicted: 7 with confidence: 0.99991906\n",
      "Predicted: 1 with confidence: 0.3880818\n",
      "Predicted: 7 with confidence: 0.9642251\n",
      "\n",
      "\n"
     ]
    }
   ],
   "source": [
    "print(\"Model 1:\\n\")\n",
    "predict_category(category_7, model_1)\n",
    "print(\"Model 2:\\n\")\n",
    "predict_category(category_7, model_2)"
   ]
  },
  {
   "cell_type": "code",
   "execution_count": 169,
   "metadata": {},
   "outputs": [
    {
     "name": "stdout",
     "output_type": "stream",
     "text": [
      "Model 1:\n",
      "\n",
      "Predicted: 3 with confidence: 0.42510974\n",
      "Predicted: 9 with confidence: 0.99616146\n",
      "Predicted: 9 with confidence: 0.9885162\n",
      "Predicted: 9 with confidence: 0.9430462\n",
      "Predicted: 3 with confidence: 0.95003647\n",
      "Predicted: 9 with confidence: 0.9932909\n",
      "Predicted: 9 with confidence: 0.9442542\n",
      "Predicted: 9 with confidence: 0.99632686\n",
      "Predicted: 9 with confidence: 0.52457356\n",
      "Predicted: 9 with confidence: 0.9669535\n",
      "\n",
      "\n",
      "Model 2:\n",
      "\n",
      "Predicted: 9 with confidence: 0.9978472\n",
      "Predicted: 9 with confidence: 0.95803475\n",
      "Predicted: 9 with confidence: 0.5724468\n",
      "Predicted: 9 with confidence: 0.9961636\n",
      "Predicted: 9 with confidence: 0.9929224\n",
      "Predicted: 4 with confidence: 0.95595104\n",
      "Predicted: 9 with confidence: 0.9913796\n",
      "Predicted: 4 with confidence: 0.9828535\n",
      "Predicted: 9 with confidence: 0.977629\n",
      "Predicted: 9 with confidence: 0.7978968\n",
      "\n",
      "\n"
     ]
    }
   ],
   "source": [
    "print(\"Model 1:\\n\")\n",
    "predict_category(category_9, model_1)\n",
    "print(\"Model 2:\\n\")\n",
    "predict_category(category_9, model_2)"
   ]
  },
  {
   "cell_type": "markdown",
   "metadata": {},
   "source": [
    "Die Zahlen, bei denen der Unterschied der Verteilung am größten war, lauteten 1, 3 und 6.\n",
    "Interessanterweise zeigt sich das bei den Predictions kaum."
   ]
  },
  {
   "cell_type": "markdown",
   "metadata": {},
   "source": [
    "### Fazit\n",
    "\n",
    "Wie zu sehen, performen die Modelle beide ähnlich gut auf den ausgewählten Daten. Entsprechend kann man davon ausgehen, dass sie mit ähnlichen Daten trainiert wurden.\n",
    "\n",
    "Model 1 macht mit Ausnahme von der Kategorie 6 immer mindestens einen Fehler. Das könnte ein Indiz dafür sein, dass das Modell insgesamt etwas generalistischer trainiert wurde.\n",
    "\n",
    "Model 2 hingegen macht bei den Kategorien 0, 4 und 6 keine Fehler. Dies steht entgegen der Erwartung der Ergebnisse aus Aufgabe A, da diese Zahlen vergleichsweise wenig im Lösungssatz enthalten waren.\n"
   ]
  },
  {
   "cell_type": "markdown",
   "metadata": {},
   "source": [
    "## C\n",
    "\n",
    "- Describe challenges you faced in A and B and how you solved it."
   ]
  },
  {
   "cell_type": "markdown",
   "metadata": {},
   "source": [
    "Zunächst stieß ich auf Komplikationen bezüglich der Importierung der Modelle, da diese aufgrund der Keras Version nicht importiert werden konnten. Dies konnte ich allerdings mit dem bereitgestellten Guide zügig lösen.\n",
    "\n",
    "Weitere Schwierigkeiten ergaben sich bei der genauen Zuteilung in Modell 1 oder Modell 2, da die Beurteilung nicht exakt präzise getroffen werden konnte. Diese Auswahl konnte jedoch durch Vergleiche der Konfidenz getroffen werden.\n",
    "\n",
    "Des Weiteren bildet Python als Programmiersprache ein sehr großes Thema, welches durch die Komplexität nicht leicht angewendet werden kann. Daher stieß ich bei der Anwendung auch auf Herausforderungen, die ich durch weitere Auseinandersetzung mit dem Thema überwinden musste.\n"
   ]
  }
 ],
 "metadata": {
  "colab": {
   "authorship_tag": "ABX9TyOe82po1IdjZnyYM4etVYw8",
   "include_colab_link": true,
   "name": "exercises.ipynb",
   "provenance": []
  },
  "kernelspec": {
   "display_name": "Python 3",
   "language": "python",
   "name": "python3"
  },
  "language_info": {
   "codemirror_mode": {
    "name": "ipython",
    "version": 3
   },
   "file_extension": ".py",
   "mimetype": "text/x-python",
   "name": "python",
   "nbconvert_exporter": "python",
   "pygments_lexer": "ipython3",
   "version": "3.7.3"
  }
 },
 "nbformat": 4,
 "nbformat_minor": 1
}
